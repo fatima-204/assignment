{
  "nbformat": 4,
  "nbformat_minor": 0,
  "metadata": {
    "colab": {
      "provenance": []
    },
    "kernelspec": {
      "name": "python3",
      "display_name": "Python 3"
    },
    "language_info": {
      "name": "python"
    }
  },
  "cells": [
    {
      "cell_type": "code",
      "execution_count": 3,
      "metadata": {
        "colab": {
          "base_uri": "https://localhost:8080/"
        },
        "id": "7mq1aL8NhQhe",
        "outputId": "123b17c9-012b-48d4-d517-c3739f35f3f0"
      },
      "outputs": [
        {
          "output_type": "stream",
          "name": "stdout",
          "text": [
            "            Name                       Website             Global_HQ  \\\n",
            "0    01 Ventures   https://www.01ventures.com/           Netherlands   \n",
            "1  1 4 All Group        https://1-4-all.group/  United Arab Emirates   \n",
            "2            10D           https://www.10d.vc/                Israel   \n",
            "3   10K Ventures   https://www.10kventures.co/               Germany   \n",
            "4   10x Founders  https://www.10xfounders.com/               Germany   \n",
            "\n",
            "                                           Countries  \\\n",
            "0                                     UK,Netherlands   \n",
            "1  DRC Congo,Ethiopia,Kenya,South Africa,Brazil,C...   \n",
            "2                                             Israel   \n",
            "3  Kenya,Nigeria,Brazil,Colombia,Mexico,India,Ind...   \n",
            "4  Germany,Austria,Switzerland,France,UK,Poland,C...   \n",
            "\n",
            "                                 Stage  \\\n",
            "0  Pre-seed, Idea, Prototype/MVP, Seed   \n",
            "1              Pre-seed, Seed, Series+   \n",
            "2  Pre-seed, Idea, Prototype/MVP, Seed   \n",
            "3  Pre-seed, Idea, Prototype/MVP, Seed   \n",
            "4  Pre-seed, Idea, Prototype/MVP, Seed   \n",
            "\n",
            "                                            Overview           Type  \\\n",
            "0  We invest in deep tech innovations including s...             VC   \n",
            "1  We invest in all 6 economic sectors: Financial...  Family office   \n",
            "2  We invest in Israeli and Israeli-related excep...             VC   \n",
            "3  We invest in early stage startups and funds gl...  Family office   \n",
            "4  We invest in the most ambitious tech founders ...             VC   \n",
            "\n",
            "                                            Industry   Cheque_range  \\\n",
            "0                  Information Technology & Services    $250K - $2M   \n",
            "1  Biotech, IoT, SaaS, Consumer, Energy, Fintech,...   $100K - $14M   \n",
            "2                  Information Technology & Services    $500K - $5M   \n",
            "3                                    Sector Agnostic  $100K - $200K   \n",
            "4                  Information Technology & Services    $100K - $3M   \n",
            "\n",
            "  Linkedin_Company Email Linkedin_Personal Twitter  \n",
            "0                                                   \n",
            "1                                                   \n",
            "2                                                   \n",
            "3                                                   \n",
            "4                                                   \n"
          ]
        }
      ],
      "source": [
        "import pandas as pd\n",
        "import numpy as np\n",
        "import matplotlib.pyplot as plt\n",
        "import seaborn as sns\n",
        "\n",
        "import pandas as pd\n",
        "\n",
        "# Load the JSON file\n",
        "file_path = \"/content/Combined file.xlsx - Sheet1.json\"\n",
        "df = pd.read_json(file_path)\n",
        "\n",
        "# Display the first few rows to check the format\n",
        "print(df.head())\n",
        "\n"
      ]
    },
    {
      "cell_type": "code",
      "source": [
        "df.isna().sum()"
      ],
      "metadata": {
        "colab": {
          "base_uri": "https://localhost:8080/",
          "height": 491
        },
        "id": "c0LFP7WphpO7",
        "outputId": "9ef21255-452a-4343-a414-f2f0aa4a3ff8"
      },
      "execution_count": 4,
      "outputs": [
        {
          "output_type": "execute_result",
          "data": {
            "text/plain": [
              "Name                 0\n",
              "Website              0\n",
              "Global_HQ            0\n",
              "Countries            0\n",
              "Stage                0\n",
              "Overview             0\n",
              "Type                 0\n",
              "Industry             0\n",
              "Cheque_range         0\n",
              "Linkedin_Company     0\n",
              "Email                0\n",
              "Linkedin_Personal    0\n",
              "Twitter              0\n",
              "dtype: int64"
            ],
            "text/html": [
              "<div>\n",
              "<style scoped>\n",
              "    .dataframe tbody tr th:only-of-type {\n",
              "        vertical-align: middle;\n",
              "    }\n",
              "\n",
              "    .dataframe tbody tr th {\n",
              "        vertical-align: top;\n",
              "    }\n",
              "\n",
              "    .dataframe thead th {\n",
              "        text-align: right;\n",
              "    }\n",
              "</style>\n",
              "<table border=\"1\" class=\"dataframe\">\n",
              "  <thead>\n",
              "    <tr style=\"text-align: right;\">\n",
              "      <th></th>\n",
              "      <th>0</th>\n",
              "    </tr>\n",
              "  </thead>\n",
              "  <tbody>\n",
              "    <tr>\n",
              "      <th>Name</th>\n",
              "      <td>0</td>\n",
              "    </tr>\n",
              "    <tr>\n",
              "      <th>Website</th>\n",
              "      <td>0</td>\n",
              "    </tr>\n",
              "    <tr>\n",
              "      <th>Global_HQ</th>\n",
              "      <td>0</td>\n",
              "    </tr>\n",
              "    <tr>\n",
              "      <th>Countries</th>\n",
              "      <td>0</td>\n",
              "    </tr>\n",
              "    <tr>\n",
              "      <th>Stage</th>\n",
              "      <td>0</td>\n",
              "    </tr>\n",
              "    <tr>\n",
              "      <th>Overview</th>\n",
              "      <td>0</td>\n",
              "    </tr>\n",
              "    <tr>\n",
              "      <th>Type</th>\n",
              "      <td>0</td>\n",
              "    </tr>\n",
              "    <tr>\n",
              "      <th>Industry</th>\n",
              "      <td>0</td>\n",
              "    </tr>\n",
              "    <tr>\n",
              "      <th>Cheque_range</th>\n",
              "      <td>0</td>\n",
              "    </tr>\n",
              "    <tr>\n",
              "      <th>Linkedin_Company</th>\n",
              "      <td>0</td>\n",
              "    </tr>\n",
              "    <tr>\n",
              "      <th>Email</th>\n",
              "      <td>0</td>\n",
              "    </tr>\n",
              "    <tr>\n",
              "      <th>Linkedin_Personal</th>\n",
              "      <td>0</td>\n",
              "    </tr>\n",
              "    <tr>\n",
              "      <th>Twitter</th>\n",
              "      <td>0</td>\n",
              "    </tr>\n",
              "  </tbody>\n",
              "</table>\n",
              "</div><br><label><b>dtype:</b> int64</label>"
            ]
          },
          "metadata": {},
          "execution_count": 4
        }
      ]
    },
    {
      "cell_type": "code",
      "source": [
        "df[\"Email\"][0]"
      ],
      "metadata": {
        "colab": {
          "base_uri": "https://localhost:8080/",
          "height": 36
        },
        "id": "eCDG8iTjhsN4",
        "outputId": "ef824c24-f0ed-46aa-9f55-307378d3ae3d"
      },
      "execution_count": 5,
      "outputs": [
        {
          "output_type": "execute_result",
          "data": {
            "text/plain": [
              "''"
            ],
            "application/vnd.google.colaboratory.intrinsic+json": {
              "type": "string"
            }
          },
          "metadata": {},
          "execution_count": 5
        }
      ]
    },
    {
      "cell_type": "code",
      "source": [],
      "metadata": {
        "id": "LB4094b2hxNG"
      },
      "execution_count": null,
      "outputs": []
    },
    {
      "cell_type": "code",
      "source": [
        "# Replace empty strings with NaN\n",
        "df.replace(\"\", np.nan, inplace=True)\n",
        "\n"
      ],
      "metadata": {
        "id": "N-k5czRVhbD7"
      },
      "execution_count": 6,
      "outputs": []
    },
    {
      "cell_type": "code",
      "source": [
        "df.isna().sum()"
      ],
      "metadata": {
        "colab": {
          "base_uri": "https://localhost:8080/",
          "height": 491
        },
        "id": "1eqZvdIDh0pz",
        "outputId": "7c90050a-e398-4011-c18f-095cdee5e987"
      },
      "execution_count": 7,
      "outputs": [
        {
          "output_type": "execute_result",
          "data": {
            "text/plain": [
              "Name                    0\n",
              "Website               365\n",
              "Global_HQ               0\n",
              "Countries               0\n",
              "Stage                   0\n",
              "Overview              702\n",
              "Type                    1\n",
              "Industry                0\n",
              "Cheque_range            0\n",
              "Linkedin_Company     1549\n",
              "Email                2385\n",
              "Linkedin_Personal    1880\n",
              "Twitter              1824\n",
              "dtype: int64"
            ],
            "text/html": [
              "<div>\n",
              "<style scoped>\n",
              "    .dataframe tbody tr th:only-of-type {\n",
              "        vertical-align: middle;\n",
              "    }\n",
              "\n",
              "    .dataframe tbody tr th {\n",
              "        vertical-align: top;\n",
              "    }\n",
              "\n",
              "    .dataframe thead th {\n",
              "        text-align: right;\n",
              "    }\n",
              "</style>\n",
              "<table border=\"1\" class=\"dataframe\">\n",
              "  <thead>\n",
              "    <tr style=\"text-align: right;\">\n",
              "      <th></th>\n",
              "      <th>0</th>\n",
              "    </tr>\n",
              "  </thead>\n",
              "  <tbody>\n",
              "    <tr>\n",
              "      <th>Name</th>\n",
              "      <td>0</td>\n",
              "    </tr>\n",
              "    <tr>\n",
              "      <th>Website</th>\n",
              "      <td>365</td>\n",
              "    </tr>\n",
              "    <tr>\n",
              "      <th>Global_HQ</th>\n",
              "      <td>0</td>\n",
              "    </tr>\n",
              "    <tr>\n",
              "      <th>Countries</th>\n",
              "      <td>0</td>\n",
              "    </tr>\n",
              "    <tr>\n",
              "      <th>Stage</th>\n",
              "      <td>0</td>\n",
              "    </tr>\n",
              "    <tr>\n",
              "      <th>Overview</th>\n",
              "      <td>702</td>\n",
              "    </tr>\n",
              "    <tr>\n",
              "      <th>Type</th>\n",
              "      <td>1</td>\n",
              "    </tr>\n",
              "    <tr>\n",
              "      <th>Industry</th>\n",
              "      <td>0</td>\n",
              "    </tr>\n",
              "    <tr>\n",
              "      <th>Cheque_range</th>\n",
              "      <td>0</td>\n",
              "    </tr>\n",
              "    <tr>\n",
              "      <th>Linkedin_Company</th>\n",
              "      <td>1549</td>\n",
              "    </tr>\n",
              "    <tr>\n",
              "      <th>Email</th>\n",
              "      <td>2385</td>\n",
              "    </tr>\n",
              "    <tr>\n",
              "      <th>Linkedin_Personal</th>\n",
              "      <td>1880</td>\n",
              "    </tr>\n",
              "    <tr>\n",
              "      <th>Twitter</th>\n",
              "      <td>1824</td>\n",
              "    </tr>\n",
              "  </tbody>\n",
              "</table>\n",
              "</div><br><label><b>dtype:</b> int64</label>"
            ]
          },
          "metadata": {},
          "execution_count": 7
        }
      ]
    },
    {
      "cell_type": "code",
      "source": [
        "# Display basic info\n",
        "print(\"\\nDataset Info:\")\n",
        "df.info()"
      ],
      "metadata": {
        "colab": {
          "base_uri": "https://localhost:8080/"
        },
        "id": "2TEJkshvh0nU",
        "outputId": "44db608e-02d0-4eec-91f3-45cacd239468"
      },
      "execution_count": 8,
      "outputs": [
        {
          "output_type": "stream",
          "name": "stdout",
          "text": [
            "\n",
            "Dataset Info:\n",
            "<class 'pandas.core.frame.DataFrame'>\n",
            "RangeIndex: 2572 entries, 0 to 2571\n",
            "Data columns (total 13 columns):\n",
            " #   Column             Non-Null Count  Dtype \n",
            "---  ------             --------------  ----- \n",
            " 0   Name               2572 non-null   object\n",
            " 1   Website            2207 non-null   object\n",
            " 2   Global_HQ          2572 non-null   object\n",
            " 3   Countries          2572 non-null   object\n",
            " 4   Stage              2572 non-null   object\n",
            " 5   Overview           1870 non-null   object\n",
            " 6   Type               2571 non-null   object\n",
            " 7   Industry           2572 non-null   object\n",
            " 8   Cheque_range       2572 non-null   object\n",
            " 9   Linkedin_Company   1023 non-null   object\n",
            " 10  Email              187 non-null    object\n",
            " 11  Linkedin_Personal  692 non-null    object\n",
            " 12  Twitter            748 non-null    object\n",
            "dtypes: object(13)\n",
            "memory usage: 261.3+ KB\n"
          ]
        }
      ]
    },
    {
      "cell_type": "code",
      "source": [
        "\n",
        "# Display basic statistics\n",
        "print(\"\\nSummary Statistics:\")\n",
        "print(df.describe(include=\"all\"))"
      ],
      "metadata": {
        "colab": {
          "base_uri": "https://localhost:8080/"
        },
        "id": "XgDTZ0hEh9FK",
        "outputId": "7baf6c5f-62d5-4483-e55e-005aa1fbe5fa"
      },
      "execution_count": 9,
      "outputs": [
        {
          "output_type": "stream",
          "name": "stdout",
          "text": [
            "\n",
            "Summary Statistics:\n",
            "                Name              Website      Global_HQ Countries  \\\n",
            "count           2572                 2207           2572      2572   \n",
            "unique          2499                 2024             95       832   \n",
            "top     Make Studios  http://www.about.me  United States    Global   \n",
            "freq               4                   12           1108      1044   \n",
            "\n",
            "                          Stage  \\\n",
            "count                      2572   \n",
            "unique                       97   \n",
            "top     Pre-seed, Seed, Series+   \n",
            "freq                       1005   \n",
            "\n",
            "                                                 Overview  Type  \\\n",
            "count                                                1870  2571   \n",
            "unique                                               1807    31   \n",
            "top     We invest in companies across EdTech, HRTech, ...    VC   \n",
            "freq                                                    3  1041   \n",
            "\n",
            "               Industry Cheque_range  \\\n",
            "count              2572         2572   \n",
            "unique              740          395   \n",
            "top     Sector Agnostic  $500K - $1M   \n",
            "freq                804          123   \n",
            "\n",
            "                                         Linkedin_Company  \\\n",
            "count                                                1023   \n",
            "unique                                               1018   \n",
            "top     https://www.linkedin.com/company/makeitstartup...   \n",
            "freq                                                    2   \n",
            "\n",
            "                         Email                         Linkedin_Personal  \\\n",
            "count                      187                                       692   \n",
            "unique                     187                                       611   \n",
            "top     abbie@truewealthvc.com  http://www.linkedin.com/company/about.me   \n",
            "freq                         1                                        12   \n",
            "\n",
            "                              Twitter  \n",
            "count                             748  \n",
            "unique                            678  \n",
            "top     http://twitter.com/aboutdotme  \n",
            "freq                               11  \n"
          ]
        }
      ]
    },
    {
      "cell_type": "code",
      "source": [
        "# Check missing values percentage\n",
        "missing_values = df.isnull().sum()\n",
        "missing_percentage = (missing_values / len(df)) * 100\n",
        "print(\"\\nMissing Values Percentage:\")\n",
        "print(missing_percentage[missing_percentage > 0])"
      ],
      "metadata": {
        "colab": {
          "base_uri": "https://localhost:8080/"
        },
        "id": "VL_XZJsQh8W2",
        "outputId": "1792a7cc-9c42-4bc4-c508-de1e3c9905df"
      },
      "execution_count": 10,
      "outputs": [
        {
          "output_type": "stream",
          "name": "stdout",
          "text": [
            "\n",
            "Missing Values Percentage:\n",
            "Website              14.191291\n",
            "Overview             27.293935\n",
            "Type                  0.038880\n",
            "Linkedin_Company     60.225505\n",
            "Email                92.729393\n",
            "Linkedin_Personal    73.094868\n",
            "Twitter              70.917574\n",
            "dtype: float64\n"
          ]
        }
      ]
    },
    {
      "cell_type": "code",
      "source": [
        "# Plot missing values heatmap\n",
        "plt.figure(figsize=(10, 6))\n",
        "sns.heatmap(df.isnull(), cmap=\"viridis\", cbar=False, yticklabels=False)\n",
        "plt.title(\"Missing Values Heatmap\")\n",
        "plt.show()"
      ],
      "metadata": {
        "colab": {
          "base_uri": "https://localhost:8080/",
          "height": 662
        },
        "id": "NoyvBFqliDM-",
        "outputId": "4e739a3f-6a02-48f6-db6c-b2ffdda19044"
      },
      "execution_count": 11,
      "outputs": [
        {
          "output_type": "display_data",
          "data": {
            "text/plain": [
              "<Figure size 1000x600 with 1 Axes>"
            ],
            "image/png": "[encoded data removed]"
          },
          "metadata": {}
        }
      ]
    },
    {
      "cell_type": "code",
      "source": [
        "# Check data types\n",
        "print(\"\\nColumn Data Types:\")\n",
        "print(df.dtypes)\n"
      ],
      "metadata": {
        "colab": {
          "base_uri": "https://localhost:8080/"
        },
        "id": "d8VPzqK5iFrQ",
        "outputId": "addfdeb3-40e9-481f-f529-19b73634965b"
      },
      "execution_count": 12,
      "outputs": [
        {
          "output_type": "stream",
          "name": "stdout",
          "text": [
            "\n",
            "Column Data Types:\n",
            "Name                 object\n",
            "Website              object\n",
            "Global_HQ            object\n",
            "Countries            object\n",
            "Stage                object\n",
            "Overview             object\n",
            "Type                 object\n",
            "Industry             object\n",
            "Cheque_range         object\n",
            "Linkedin_Company     object\n",
            "Email                object\n",
            "Linkedin_Personal    object\n",
            "Twitter              object\n",
            "dtype: object\n"
          ]
        }
      ]
    },
    {
      "cell_type": "code",
      "source": [
        "# Count unique values per column\n",
        "print(\"\\nUnique Values Per Column:\")\n",
        "print(df.nunique())"
      ],
      "metadata": {
        "colab": {
          "base_uri": "https://localhost:8080/"
        },
        "id": "ikqpW79_iFnM",
        "outputId": "bfd02b66-33c7-40d2-8478-73d9eadc2653"
      },
      "execution_count": 13,
      "outputs": [
        {
          "output_type": "stream",
          "name": "stdout",
          "text": [
            "\n",
            "Unique Values Per Column:\n",
            "Name                 2499\n",
            "Website              2024\n",
            "Global_HQ              95\n",
            "Countries             832\n",
            "Stage                  97\n",
            "Overview             1807\n",
            "Type                   31\n",
            "Industry              740\n",
            "Cheque_range          395\n",
            "Linkedin_Company     1018\n",
            "Email                 187\n",
            "Linkedin_Personal     611\n",
            "Twitter               678\n",
            "dtype: int64\n"
          ]
        }
      ]
    },
    {
      "cell_type": "code",
      "source": [],
      "metadata": {
        "id": "pCxnrAnZiFfk"
      },
      "execution_count": 15,
      "outputs": []
    },
    {
      "cell_type": "code",
      "source": [
        "# Check dataset shape\n",
        "print(f\"\\nDataset Shape: {df.shape}\")"
      ],
      "metadata": {
        "colab": {
          "base_uri": "https://localhost:8080/"
        },
        "id": "iH0FT_S9iFbn",
        "outputId": "edc81401-b4b8-46f4-adc4-c6b46466b4b1"
      },
      "execution_count": 16,
      "outputs": [
        {
          "output_type": "stream",
          "name": "stdout",
          "text": [
            "\n",
            "Dataset Shape: (2572, 13)\n"
          ]
        }
      ]
    },
    {
      "cell_type": "code",
      "source": [
        "# Display first few rows\n",
        "print(\"\\nFirst Five Rows:\")\n",
        "print(df.head())"
      ],
      "metadata": {
        "colab": {
          "base_uri": "https://localhost:8080/"
        },
        "id": "7JdcCLSLh0jj",
        "outputId": "416742d3-b7b0-4a9a-e32c-fa9fb0977e45"
      },
      "execution_count": 17,
      "outputs": [
        {
          "output_type": "stream",
          "name": "stdout",
          "text": [
            "\n",
            "First Five Rows:\n",
            "            Name                       Website             Global_HQ  \\\n",
            "0    01 Ventures   https://www.01ventures.com/           Netherlands   \n",
            "1  1 4 All Group        https://1-4-all.group/  United Arab Emirates   \n",
            "2            10D           https://www.10d.vc/                Israel   \n",
            "3   10K Ventures   https://www.10kventures.co/               Germany   \n",
            "4   10x Founders  https://www.10xfounders.com/               Germany   \n",
            "\n",
            "                                           Countries  \\\n",
            "0                                     UK,Netherlands   \n",
            "1  DRC Congo,Ethiopia,Kenya,South Africa,Brazil,C...   \n",
            "2                                             Israel   \n",
            "3  Kenya,Nigeria,Brazil,Colombia,Mexico,India,Ind...   \n",
            "4  Germany,Austria,Switzerland,France,UK,Poland,C...   \n",
            "\n",
            "                                 Stage  \\\n",
            "0  Pre-seed, Idea, Prototype/MVP, Seed   \n",
            "1              Pre-seed, Seed, Series+   \n",
            "2  Pre-seed, Idea, Prototype/MVP, Seed   \n",
            "3  Pre-seed, Idea, Prototype/MVP, Seed   \n",
            "4  Pre-seed, Idea, Prototype/MVP, Seed   \n",
            "\n",
            "                                            Overview           Type  \\\n",
            "0  We invest in deep tech innovations including s...             VC   \n",
            "1  We invest in all 6 economic sectors: Financial...  Family office   \n",
            "2  We invest in Israeli and Israeli-related excep...             VC   \n",
            "3  We invest in early stage startups and funds gl...  Family office   \n",
            "4  We invest in the most ambitious tech founders ...             VC   \n",
            "\n",
            "                                            Industry   Cheque_range  \\\n",
            "0                  Information Technology & Services    $250K - $2M   \n",
            "1  Biotech, IoT, SaaS, Consumer, Energy, Fintech,...   $100K - $14M   \n",
            "2                  Information Technology & Services    $500K - $5M   \n",
            "3                                    Sector Agnostic  $100K - $200K   \n",
            "4                  Information Technology & Services    $100K - $3M   \n",
            "\n",
            "  Linkedin_Company Email Linkedin_Personal Twitter  \n",
            "0              NaN   NaN               NaN     NaN  \n",
            "1              NaN   NaN               NaN     NaN  \n",
            "2              NaN   NaN               NaN     NaN  \n",
            "3              NaN   NaN               NaN     NaN  \n",
            "4              NaN   NaN               NaN     NaN  \n"
          ]
        }
      ]
    },
    {
      "cell_type": "code",
      "source": [
        "df[\"Type\"].unique()"
      ],
      "metadata": {
        "colab": {
          "base_uri": "https://localhost:8080/"
        },
        "id": "ZDN53hlwh0gE",
        "outputId": "8f20d19d-8227-4501-b9d8-03714671c0e4"
      },
      "execution_count": 18,
      "outputs": [
        {
          "output_type": "execute_result",
          "data": {
            "text/plain": [
              "array(['VC', 'Family office', 'PE fund', 'Incubator, Accelerator',\n",
              "       'Corporate VC', 'Other', 'Solo angel', 'Angel network',\n",
              "       'Public fund', 'Startup studio', 'Revenue-based', 'Investor_type',\n",
              "       'Angel Network', 'Solo Angel', 'Multi-stage VC\\n\\n', 'Seed fund',\n",
              "       'Seed fund\\n\\n\\n\\n', 'solo Angel', 'Seed fund\\n\\n\\n',\n",
              "       'Multi-stage VC', '\\nSeed fund', 'Solo capitalist',\n",
              "       'Full-time Angel', 'Family Office', 'Seed fund\\n\\n',\n",
              "       'Full-time Angel\\n\\n', 'Solo capitalist\\n\\n', nan,\n",
              "       'Startup Studio', 'Pre-seed fund\\n\\n',\n",
              "       'Full-time operator, Angel\\n\\n', 'Incubator, Accelerator\\n'],\n",
              "      dtype=object)"
            ]
          },
          "metadata": {},
          "execution_count": 18
        }
      ]
    },
    {
      "cell_type": "code",
      "source": [
        "import pandas as pd\n",
        "\n",
        "# Function to clean and standardize the 'type' column\n",
        "def clean_investor_type(value):\n",
        "    if pd.isna(value) or value.strip() == \"\":  # Handle NaN and empty strings\n",
        "        return \"Unknown\"\n",
        "\n",
        "    cleaned = value.strip()  # Remove leading/trailing spaces\n",
        "\n",
        "    # Standardize common variations\n",
        "    if 'Solo angel' in cleaned or 'Solo Angel' in cleaned or 'solo Angel' in cleaned:\n",
        "        return 'Solo Angel'\n",
        "    elif 'Angel network' in cleaned or 'Angel Network' in cleaned:\n",
        "        return 'Angel Network'\n",
        "    elif 'Family office' in cleaned or 'Family Office' in cleaned:\n",
        "        return 'Family Office'\n",
        "    elif 'Seed fund' in cleaned:\n",
        "        return 'Seed Fund'\n",
        "    elif 'Multi-stage VC' in cleaned:\n",
        "        return 'Multi-stage VC'\n",
        "    elif 'Startup studio' in cleaned or 'Startup Studio' in cleaned:\n",
        "        return 'Startup Studio'\n",
        "    elif 'Incubator, Accelerator' in cleaned:\n",
        "        return 'Incubator/Accelerator'\n",
        "    else:\n",
        "        return cleaned  # Keep the original value if no match is found\n",
        "\n",
        "# Apply the function to the 'type' column\n",
        "df['Type'] = df['Type'].astype(str).apply(clean_investor_type)\n",
        "\n",
        "# Display unique standardized values with their counts\n",
        "print(df['Type'].value_counts())\n"
      ],
      "metadata": {
        "colab": {
          "base_uri": "https://localhost:8080/"
        },
        "id": "wdotrF9Kh0cW",
        "outputId": "05959f68-823d-48ee-9306-d596ca369ffd"
      },
      "execution_count": 20,
      "outputs": [
        {
          "output_type": "stream",
          "name": "stdout",
          "text": [
            "Type\n",
            "VC                           1041\n",
            "Solo Angel                    956\n",
            "Seed Fund                     127\n",
            "Multi-stage VC                 99\n",
            "Corporate VC                   85\n",
            "Angel Network                  72\n",
            "Family Office                  47\n",
            "Incubator/Accelerator          43\n",
            "Other                          21\n",
            "Startup Studio                 19\n",
            "PE fund                        15\n",
            "Solo capitalist                13\n",
            "Full-time operator, Angel      11\n",
            "Revenue-based                   7\n",
            "Public fund                     6\n",
            "Full-time Angel                 6\n",
            "Pre-seed fund                   2\n",
            "Investor_type                   1\n",
            "nan                             1\n",
            "Name: count, dtype: int64\n"
          ]
        }
      ]
    },
    {
      "cell_type": "code",
      "source": [
        "df[\"Type\"].unique()"
      ],
      "metadata": {
        "colab": {
          "base_uri": "https://localhost:8080/"
        },
        "id": "mAdSHxX-kNYf",
        "outputId": "e803ae59-d71b-4a61-e2d6-f84c2bbb2dc1"
      },
      "execution_count": 21,
      "outputs": [
        {
          "output_type": "execute_result",
          "data": {
            "text/plain": [
              "array(['VC', 'Family Office', 'PE fund', 'Incubator/Accelerator',\n",
              "       'Corporate VC', 'Other', 'Solo Angel', 'Angel Network',\n",
              "       'Public fund', 'Startup Studio', 'Revenue-based', 'Investor_type',\n",
              "       'Multi-stage VC', 'Seed Fund', 'Solo capitalist',\n",
              "       'Full-time Angel', 'nan', 'Pre-seed fund',\n",
              "       'Full-time operator, Angel'], dtype=object)"
            ]
          },
          "metadata": {},
          "execution_count": 21
        }
      ]
    },
    {
      "cell_type": "code",
      "source": [
        "len(df[\"Type\"].unique())"
      ],
      "metadata": {
        "colab": {
          "base_uri": "https://localhost:8080/"
        },
        "id": "sGfkdGkIkVxM",
        "outputId": "d838c862-37f5-4a43-a6e4-2c18d64689bc"
      },
      "execution_count": 22,
      "outputs": [
        {
          "output_type": "execute_result",
          "data": {
            "text/plain": [
              "19"
            ]
          },
          "metadata": {},
          "execution_count": 22
        }
      ]
    },
    {
      "cell_type": "code",
      "source": [
        "df.isna().sum()"
      ],
      "metadata": {
        "colab": {
          "base_uri": "https://localhost:8080/",
          "height": 491
        },
        "id": "6R5O82ibkYQH",
        "outputId": "170f577f-07e1-4bdf-da28-76f5719e645e"
      },
      "execution_count": 23,
      "outputs": [
        {
          "output_type": "execute_result",
          "data": {
            "text/plain": [
              "Name                    0\n",
              "Website               365\n",
              "Global_HQ               0\n",
              "Countries               0\n",
              "Stage                   0\n",
              "Overview              702\n",
              "Type                    0\n",
              "Industry                0\n",
              "Cheque_range            0\n",
              "Linkedin_Company     1549\n",
              "Email                2385\n",
              "Linkedin_Personal    1880\n",
              "Twitter              1824\n",
              "dtype: int64"
            ],
            "text/html": [
              "<div>\n",
              "<style scoped>\n",
              "    .dataframe tbody tr th:only-of-type {\n",
              "        vertical-align: middle;\n",
              "    }\n",
              "\n",
              "    .dataframe tbody tr th {\n",
              "        vertical-align: top;\n",
              "    }\n",
              "\n",
              "    .dataframe thead th {\n",
              "        text-align: right;\n",
              "    }\n",
              "</style>\n",
              "<table border=\"1\" class=\"dataframe\">\n",
              "  <thead>\n",
              "    <tr style=\"text-align: right;\">\n",
              "      <th></th>\n",
              "      <th>0</th>\n",
              "    </tr>\n",
              "  </thead>\n",
              "  <tbody>\n",
              "    <tr>\n",
              "      <th>Name</th>\n",
              "      <td>0</td>\n",
              "    </tr>\n",
              "    <tr>\n",
              "      <th>Website</th>\n",
              "      <td>365</td>\n",
              "    </tr>\n",
              "    <tr>\n",
              "      <th>Global_HQ</th>\n",
              "      <td>0</td>\n",
              "    </tr>\n",
              "    <tr>\n",
              "      <th>Countries</th>\n",
              "      <td>0</td>\n",
              "    </tr>\n",
              "    <tr>\n",
              "      <th>Stage</th>\n",
              "      <td>0</td>\n",
              "    </tr>\n",
              "    <tr>\n",
              "      <th>Overview</th>\n",
              "      <td>702</td>\n",
              "    </tr>\n",
              "    <tr>\n",
              "      <th>Type</th>\n",
              "      <td>0</td>\n",
              "    </tr>\n",
              "    <tr>\n",
              "      <th>Industry</th>\n",
              "      <td>0</td>\n",
              "    </tr>\n",
              "    <tr>\n",
              "      <th>Cheque_range</th>\n",
              "      <td>0</td>\n",
              "    </tr>\n",
              "    <tr>\n",
              "      <th>Linkedin_Company</th>\n",
              "      <td>1549</td>\n",
              "    </tr>\n",
              "    <tr>\n",
              "      <th>Email</th>\n",
              "      <td>2385</td>\n",
              "    </tr>\n",
              "    <tr>\n",
              "      <th>Linkedin_Personal</th>\n",
              "      <td>1880</td>\n",
              "    </tr>\n",
              "    <tr>\n",
              "      <th>Twitter</th>\n",
              "      <td>1824</td>\n",
              "    </tr>\n",
              "  </tbody>\n",
              "</table>\n",
              "</div><br><label><b>dtype:</b> int64</label>"
            ]
          },
          "metadata": {},
          "execution_count": 23
        }
      ]
    },
    {
      "cell_type": "code",
      "source": [
        "# Drop the specified columns\n",
        "df = df.drop(columns=['Linkedin_Company', 'Email', 'Linkedin_Personal', 'Twitter'])\n",
        "\n",
        "# Verify that the columns were dropped\n",
        "print(df.columns)\n"
      ],
      "metadata": {
        "colab": {
          "base_uri": "https://localhost:8080/"
        },
        "id": "f7QzxdsHlF3L",
        "outputId": "bf081f40-d761-4e68-c6ab-8211f378a873"
      },
      "execution_count": 24,
      "outputs": [
        {
          "output_type": "stream",
          "name": "stdout",
          "text": [
            "Index(['Name', 'Website', 'Global_HQ', 'Countries', 'Stage', 'Overview',\n",
            "       'Type', 'Industry', 'Cheque_range'],\n",
            "      dtype='object')\n"
          ]
        }
      ]
    },
    {
      "cell_type": "code",
      "source": [
        "df.isna().sum()"
      ],
      "metadata": {
        "colab": {
          "base_uri": "https://localhost:8080/",
          "height": 366
        },
        "id": "fup51mcklQq8",
        "outputId": "667eef2a-785a-479d-badb-b06f9f25be1a"
      },
      "execution_count": 25,
      "outputs": [
        {
          "output_type": "execute_result",
          "data": {
            "text/plain": [
              "Name              0\n",
              "Website         365\n",
              "Global_HQ         0\n",
              "Countries         0\n",
              "Stage             0\n",
              "Overview        702\n",
              "Type              0\n",
              "Industry          0\n",
              "Cheque_range      0\n",
              "dtype: int64"
            ],
            "text/html": [
              "<div>\n",
              "<style scoped>\n",
              "    .dataframe tbody tr th:only-of-type {\n",
              "        vertical-align: middle;\n",
              "    }\n",
              "\n",
              "    .dataframe tbody tr th {\n",
              "        vertical-align: top;\n",
              "    }\n",
              "\n",
              "    .dataframe thead th {\n",
              "        text-align: right;\n",
              "    }\n",
              "</style>\n",
              "<table border=\"1\" class=\"dataframe\">\n",
              "  <thead>\n",
              "    <tr style=\"text-align: right;\">\n",
              "      <th></th>\n",
              "      <th>0</th>\n",
              "    </tr>\n",
              "  </thead>\n",
              "  <tbody>\n",
              "    <tr>\n",
              "      <th>Name</th>\n",
              "      <td>0</td>\n",
              "    </tr>\n",
              "    <tr>\n",
              "      <th>Website</th>\n",
              "      <td>365</td>\n",
              "    </tr>\n",
              "    <tr>\n",
              "      <th>Global_HQ</th>\n",
              "      <td>0</td>\n",
              "    </tr>\n",
              "    <tr>\n",
              "      <th>Countries</th>\n",
              "      <td>0</td>\n",
              "    </tr>\n",
              "    <tr>\n",
              "      <th>Stage</th>\n",
              "      <td>0</td>\n",
              "    </tr>\n",
              "    <tr>\n",
              "      <th>Overview</th>\n",
              "      <td>702</td>\n",
              "    </tr>\n",
              "    <tr>\n",
              "      <th>Type</th>\n",
              "      <td>0</td>\n",
              "    </tr>\n",
              "    <tr>\n",
              "      <th>Industry</th>\n",
              "      <td>0</td>\n",
              "    </tr>\n",
              "    <tr>\n",
              "      <th>Cheque_range</th>\n",
              "      <td>0</td>\n",
              "    </tr>\n",
              "  </tbody>\n",
              "</table>\n",
              "</div><br><label><b>dtype:</b> int64</label>"
            ]
          },
          "metadata": {},
          "execution_count": 25
        }
      ]
    },
    {
      "cell_type": "code",
      "source": [
        "df[\"Website\"]"
      ],
      "metadata": {
        "colab": {
          "base_uri": "https://localhost:8080/",
          "height": 458
        },
        "id": "-wPWDYJqlUTU",
        "outputId": "de1c4d12-ea80-49a9-c8a6-8d348dae4577"
      },
      "execution_count": 26,
      "outputs": [
        {
          "output_type": "execute_result",
          "data": {
            "text/plain": [
              "0              https://www.01ventures.com/\n",
              "1                   https://1-4-all.group/\n",
              "2                      https://www.10d.vc/\n",
              "3              https://www.10kventures.co/\n",
              "4             https://www.10xfounders.com/\n",
              "                       ...                \n",
              "2567                                   NaN\n",
              "2568                  http://www.linktr.ee\n",
              "2569         http://www.signalsciences.com\n",
              "2570                                   NaN\n",
              "2571    http://www.wikimediafoundation.org\n",
              "Name: Website, Length: 2572, dtype: object"
            ],
            "text/html": [
              "<div>\n",
              "<style scoped>\n",
              "    .dataframe tbody tr th:only-of-type {\n",
              "        vertical-align: middle;\n",
              "    }\n",
              "\n",
              "    .dataframe tbody tr th {\n",
              "        vertical-align: top;\n",
              "    }\n",
              "\n",
              "    .dataframe thead th {\n",
              "        text-align: right;\n",
              "    }\n",
              "</style>\n",
              "<table border=\"1\" class=\"dataframe\">\n",
              "  <thead>\n",
              "    <tr style=\"text-align: right;\">\n",
              "      <th></th>\n",
              "      <th>Website</th>\n",
              "    </tr>\n",
              "  </thead>\n",
              "  <tbody>\n",
              "    <tr>\n",
              "      <th>0</th>\n",
              "      <td>https://www.01ventures.com/</td>\n",
              "    </tr>\n",
              "    <tr>\n",
              "      <th>1</th>\n",
              "      <td>https://1-4-all.group/</td>\n",
              "    </tr>\n",
              "    <tr>\n",
              "      <th>2</th>\n",
              "      <td>https://www.10d.vc/</td>\n",
              "    </tr>\n",
              "    <tr>\n",
              "      <th>3</th>\n",
              "      <td>https://www.10kventures.co/</td>\n",
              "    </tr>\n",
              "    <tr>\n",
              "      <th>4</th>\n",
              "      <td>https://www.10xfounders.com/</td>\n",
              "    </tr>\n",
              "    <tr>\n",
              "      <th>...</th>\n",
              "      <td>...</td>\n",
              "    </tr>\n",
              "    <tr>\n",
              "      <th>2567</th>\n",
              "      <td>NaN</td>\n",
              "    </tr>\n",
              "    <tr>\n",
              "      <th>2568</th>\n",
              "      <td>http://www.linktr.ee</td>\n",
              "    </tr>\n",
              "    <tr>\n",
              "      <th>2569</th>\n",
              "      <td>http://www.signalsciences.com</td>\n",
              "    </tr>\n",
              "    <tr>\n",
              "      <th>2570</th>\n",
              "      <td>NaN</td>\n",
              "    </tr>\n",
              "    <tr>\n",
              "      <th>2571</th>\n",
              "      <td>http://www.wikimediafoundation.org</td>\n",
              "    </tr>\n",
              "  </tbody>\n",
              "</table>\n",
              "<p>2572 rows × 1 columns</p>\n",
              "</div><br><label><b>dtype:</b> object</label>"
            ]
          },
          "metadata": {},
          "execution_count": 26
        }
      ]
    },
    {
      "cell_type": "code",
      "source": [],
      "metadata": {
        "id": "52DQkE0plXds"
      },
      "execution_count": null,
      "outputs": []
    }
  ]
}